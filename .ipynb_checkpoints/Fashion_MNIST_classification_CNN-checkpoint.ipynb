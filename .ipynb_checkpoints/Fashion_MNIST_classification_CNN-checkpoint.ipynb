{
 "cells": [
  {
   "cell_type": "markdown",
   "metadata": {},
   "source": [
    "# Fashion MNIST Classification"
   ]
  },
  {
   "cell_type": "markdown",
   "metadata": {},
   "source": [
    "In the other two notebooks in this series, we saw how we can use keras to classify two classes i.e. Horses and Humans from one another. In this notebook, we'll try to do a 10-class classification problem with the help of a basic CNN model using `Functional` model.\n",
    "\n",
    "We have seen how to use `flow_from_directory` method in the `ImageDataGenerator` class in order to read images from directories on the fly and feed them to the neural networks to learn from the same. Here, I'll demonstrate how to use the `flow` method in order to feed data to a neural network from already defined images and labels in memory (i.e. not in directory but in this notebook only). Also, in this notebook, we'll use the alternative way of building a model in keras i.e. `Functional` and not the `Sequential` model which we've built in the other two notebooks in this repository."
   ]
  },
  {
   "cell_type": "code",
   "execution_count": 1,
   "metadata": {},
   "outputs": [
    {
     "name": "stderr",
     "output_type": "stream",
     "text": [
      "Using TensorFlow backend.\n"
     ]
    }
   ],
   "source": [
    "import os\n",
    "\n",
    "# For dataframe and matrix operations\n",
    "import numpy as np\n",
    "import pandas as pd\n",
    "\n",
    "# For evaluation purposes\n",
    "from sklearn.metrics import confusion_matrix\n",
    "\n",
    "# For plotting purposes\n",
    "import matplotlib.pyplot as plt\n",
    "import seaborn as sns\n",
    "from matplotlib import rcParams\n",
    "%matplotlib inline\n",
    "\n",
    "# The backend used by keras is tensorflow\n",
    "import tensorflow as tf\n",
    "\n",
    "# The layers needed to build a convolutional neural network\n",
    "from keras.layers import Dense, Conv2D, Flatten, Dropout, MaxPool2D\n",
    "\n",
    "# In order to build a CNN architecture with the functional framework\n",
    "from keras.engine.input_layer import Input\n",
    "from keras.models import Model\n",
    "\n",
    "# In order to feed the images to CNN\n",
    "from keras.preprocessing.image import ImageDataGenerator\n",
    "\n",
    "# In order to specify the algorithm for backpropogation\n",
    "from keras.optimizers import SGD\n",
    "\n",
    "# In order to one-hot encode the output labels\n",
    "from keras.utils import to_categorical\n",
    "\n",
    "# To ignore warnings\n",
    "import warnings\n",
    "warnings.filterwarnings('ignore')"
   ]
  },
  {
   "cell_type": "code",
   "execution_count": 2,
   "metadata": {},
   "outputs": [],
   "source": [
    "from keras.datasets import fashion_mnist\n",
    "(x_train, y_train), (x_test, y_test) = fashion_mnist.load_data()"
   ]
  },
  {
   "cell_type": "code",
   "execution_count": 3,
   "metadata": {},
   "outputs": [],
   "source": [
    "label_mapping = {0 : \"T-shirt/top\", 1 : \"Trouser\", 2 : \"Pullover\", 3 : \"Dress\", 4 : \"Coat\",\n",
    "                5 : \"Sandal\", 6 : \"Shirt\", 7 : \"Sneaker\", 8 : \"Bag\", 9 : \"Ankle boot\"}"
   ]
  },
  {
   "cell_type": "code",
   "execution_count": 4,
   "metadata": {},
   "outputs": [],
   "source": [
    "# Define some constants\n",
    "image_width = 28\n",
    "image_height = 28\n",
    "num_channel = 1\n",
    "batch_size = 10\n",
    "num_epochs = 5"
   ]
  },
  {
   "cell_type": "markdown",
   "metadata": {},
   "source": [
    "# Image Preparation"
   ]
  },
  {
   "cell_type": "markdown",
   "metadata": {},
   "source": [
    "Let us view a few images from the train set and a few images from the test set and the train set."
   ]
  },
  {
   "cell_type": "code",
   "execution_count": 5,
   "metadata": {},
   "outputs": [],
   "source": [
    "def plot_images_from_set(set_name, label_name, n_img):\n",
    "    fig, axes = plt.subplots(1, n_img, figsize = (12,12))\n",
    "    for i in range(n_img):\n",
    "        axes[i].axis('Off')\n",
    "        axes[i].imshow(set_name[i], cmap = 'gray')\n",
    "        axes[i].set_title(label_mapping[label_name[i]])"
   ]
  },
  {
   "cell_type": "code",
   "execution_count": 6,
   "metadata": {},
   "outputs": [
    {
     "data": {
      "image/png": "[encoded data removed]",
      "text/plain": [
       "<Figure size 864x864 with 5 Axes>"
      ]
     },
     "metadata": {
      "needs_background": "light"
     },
     "output_type": "display_data"
    }
   ],
   "source": [
    "plot_images_from_set(x_train, y_train, 5)"
   ]
  },
  {
   "cell_type": "code",
   "execution_count": 7,
   "metadata": {},
   "outputs": [
    {
     "data": {
      "image/png": "[encoded data removed]",
      "text/plain": [
       "<Figure size 864x864 with 5 Axes>"
      ]
     },
     "metadata": {
      "needs_background": "light"
     },
     "output_type": "display_data"
    }
   ],
   "source": [
    "plot_images_from_set(x_test, y_test, 5)"
   ]
  },
  {
   "cell_type": "code",
   "execution_count": 8,
   "metadata": {},
   "outputs": [
    {
     "name": "stdout",
     "output_type": "stream",
     "text": [
      "Size of train dataset: (60000, 28, 28)\n",
      "Size of test dataset:  (10000, 28, 28)\n"
     ]
    }
   ],
   "source": [
    "print(f\"Size of train dataset: {x_train.shape}\\nSize of test dataset:  {x_test.shape}\")"
   ]
  },
  {
   "cell_type": "markdown",
   "metadata": {},
   "source": [
    "Since we have a huge training dataset already, let's utilize this and train the model simply on this data and not include any augmented data in this set. \n",
    "\n",
    "Since our data is grayscale and since keras expects an image in 3-Dimensions, we need to reshape the x_train and x_test arrays accordingly.\n",
    "\n",
    "Also, we need to one-hot encode our labels since they're 10 of them"
   ]
  },
  {
   "cell_type": "code",
   "execution_count": 9,
   "metadata": {},
   "outputs": [],
   "source": [
    "# Resize the arrays so that we have a channel component in the grayscale image\n",
    "X_tr = x_train.reshape(x_train.shape[0], x_train.shape[1], x_train.shape[2], 1)\n",
    "X_ts = x_test.reshape(x_test.shape[0], x_test.shape[1], x_test.shape[2], 1)"
   ]
  },
  {
   "cell_type": "code",
   "execution_count": 10,
   "metadata": {},
   "outputs": [],
   "source": [
    "# One hot encode the output labels\n",
    "y_tr = to_categorical(y_train)\n",
    "y_ts = to_categorical(y_test)"
   ]
  },
  {
   "cell_type": "code",
   "execution_count": 11,
   "metadata": {},
   "outputs": [],
   "source": [
    "b_size = 32\n",
    "\n",
    "# Create generator objects for train and validation data\n",
    "IDG = ImageDataGenerator(validation_split = 0.2, rescale = 1/255.)\n",
    "trainDataGen = IDG.flow(x = X_tr, y = y_tr, subset = 'training', batch_size = b_size)\n",
    "valDataGen = IDG.flow(x = X_tr, y = y_tr, subset = 'validation', batch_size = b_size)\n",
    "\n",
    "# Make a generator object for test data\n",
    "testData = ImageDataGenerator(rescale = 1/255.).flow(x = X_ts, y = y_ts, batch_size = b_size)"
   ]
  },
  {
   "cell_type": "markdown",
   "metadata": {},
   "source": [
    "# Model Architecture"
   ]
  },
  {
   "cell_type": "markdown",
   "metadata": {},
   "source": [
    "First define all the connections in the below cell and then in the next cell, make a model that connects the first and the last layers together. "
   ]
  },
  {
   "cell_type": "code",
   "execution_count": 12,
   "metadata": {
    "scrolled": true
   },
   "outputs": [
    {
     "name": "stdout",
     "output_type": "stream",
     "text": [
      "WARNING:tensorflow:From C:\\Users\\nayak\\Anaconda3\\lib\\site-packages\\tensorflow\\python\\ops\\resource_variable_ops.py:435: colocate_with (from tensorflow.python.framework.ops) is deprecated and will be removed in a future version.\n",
      "Instructions for updating:\n",
      "Colocations handled automatically by placer.\n"
     ]
    }
   ],
   "source": [
    "# The first layer will be the input layer that contains 28 x 28 sized images\n",
    "image_input = Input(shape=(image_width, image_height, num_channel), name = \"Input_Layer\")\n",
    "\n",
    "# Next layer will be a Convolutional layer\n",
    "conv1 = Conv2D(filters = 32, kernel_size = (3,3), strides = (1,1), \n",
    "               padding = 'valid', activation = 'relu', name = '1st_Conv')(image_input)\n",
    "               \n",
    "# Add another convolutional layer on top of the above layer.\n",
    "conv2 = Conv2D(filters = 32, kernel_size = (3,3), strides = (1,1), \n",
    "               padding = 'valid', activation = 'relu', name = '2nd_Conv')(conv1)\n",
    "\n",
    "# Add a MaxPooling Layer on top of the 2nd Convolutional layer\n",
    "MP1 = MaxPool2D(pool_size = (2,2), name = \"Max_Pooling_1\")(conv2)\n",
    "\n",
    "# Add a dropout layer for regularization (avoid overfitting)\n",
    "DP = Dropout(rate = 0.5, name = \"Dropout\")(MP1)\n",
    "\n",
    "# Flatten the input coming from the output of convolutional and subsampling layers.\n",
    "Flat = Flatten(name = \"Flatten\")(DP)\n",
    "\n",
    "# Add a Fully-connected layer to start the MLP for classification\n",
    "FC1 = Dense(128, activation = 'relu', name = \"Fully_Connected_1\")(Flat)\n",
    "\n",
    "# Add a dropout layer for regularization (avoid overfitting)\n",
    "DP2 = Dropout(rate = 0.5, name = \"Dropout2\")(FC1)\n",
    "\n",
    "# Add the output layer for classification\n",
    "FC2 = Dense(10, activation = 'softmax', name = \"Output_layer\")(DP2)"
   ]
  },
  {
   "cell_type": "code",
   "execution_count": 13,
   "metadata": {},
   "outputs": [],
   "source": [
    "model = Model(image_input, FC2)"
   ]
  },
  {
   "cell_type": "code",
   "execution_count": 14,
   "metadata": {},
   "outputs": [
    {
     "name": "stdout",
     "output_type": "stream",
     "text": [
      "Model: \"model_1\"\n",
      "_________________________________________________________________\n",
      "Layer (type)                 Output Shape              Param #   \n",
      "=================================================================\n",
      "Input_Layer (InputLayer)     (None, 28, 28, 1)         0         \n",
      "_________________________________________________________________\n",
      "1st_Conv (Conv2D)            (None, 26, 26, 32)        320       \n",
      "_________________________________________________________________\n",
      "2nd_Conv (Conv2D)            (None, 24, 24, 32)        9248      \n",
      "_________________________________________________________________\n",
      "Max_Pooling_1 (MaxPooling2D) (None, 12, 12, 32)        0         \n",
      "_________________________________________________________________\n",
      "Dropout (Dropout)            (None, 12, 12, 32)        0         \n",
      "_________________________________________________________________\n",
      "Flatten (Flatten)            (None, 4608)              0         \n",
      "_________________________________________________________________\n",
      "Fully_Connected_1 (Dense)    (None, 128)               589952    \n",
      "_________________________________________________________________\n",
      "Dropout2 (Dropout)           (None, 128)               0         \n",
      "_________________________________________________________________\n",
      "Output_layer (Dense)         (None, 10)                1290      \n",
      "=================================================================\n",
      "Total params: 600,810\n",
      "Trainable params: 600,810\n",
      "Non-trainable params: 0\n",
      "_________________________________________________________________\n"
     ]
    }
   ],
   "source": [
    "model.summary()"
   ]
  },
  {
   "cell_type": "code",
   "execution_count": 15,
   "metadata": {},
   "outputs": [],
   "source": [
    "model.compile(loss = 'categorical_crossentropy', optimizer = SGD(lr = 0.05), metrics = ['accuracy'])"
   ]
  },
  {
   "cell_type": "markdown",
   "metadata": {},
   "source": [
    "# Model Fitting"
   ]
  },
  {
   "cell_type": "markdown",
   "metadata": {},
   "source": [
    "**We will be using the fit_generator for training the neural network on train generator and validating on the validation generator object.**\n",
    "\n",
    "Some of the parameters of the function fit_generator() are as follows. For a list of all parameters [visit here](https://keras.io/models/model/#fit_generator). \n",
    "\n",
    "- generator - It is the generator object defined on train data for which you've selected subset as training. It has 1500 batches each of size 32 i.e. 48000 samples. Remnant of the samples are in  validation generator\n",
    "\n",
    "- epochs - Number of epochs for which to train the network\n",
    "\n",
    "- verbose - 0,1,2 for none, all and some info about things happening in each epoch\n",
    "\n",
    "- validation_data - It can be a tuple of x and y values or it can be a generator object as well which it is in this case. The validation set contains 60000 - 48000 = 12000 samples.\n",
    "\n",
    "- validation_freq - It is the number of epochs after which validation should be carried out. We're defining it as 1 but in case there's a shortage of time/ computational resources are limited, we can decrease the frequency. ie let's say we need to validate after every 3 epochs, so, we can mention validation_freq = 3 and so on.\n",
    "\n",
    "- shuffle - Whether elements in a batch also across batches will be shuffled."
   ]
  },
  {
   "cell_type": "code",
   "execution_count": 16,
   "metadata": {
    "scrolled": true
   },
   "outputs": [
    {
     "name": "stdout",
     "output_type": "stream",
     "text": [
      "WARNING:tensorflow:From C:\\Users\\nayak\\Anaconda3\\lib\\site-packages\\tensorflow\\python\\ops\\math_ops.py:3066: to_int32 (from tensorflow.python.ops.math_ops) is deprecated and will be removed in a future version.\n",
      "Instructions for updating:\n",
      "Use tf.cast instead.\n",
      "Epoch 1/5\n",
      "1500/1500 [==============================] - 132s 88ms/step - loss: 0.7130 - accuracy: 0.7379 - val_loss: 0.3270 - val_accuracy: 0.8453\n",
      "Epoch 2/5\n",
      "1500/1500 [==============================] - 134s 89ms/step - loss: 0.4775 - accuracy: 0.8255 - val_loss: 0.2960 - val_accuracy: 0.8749\n",
      "Epoch 3/5\n",
      "1500/1500 [==============================] - 126s 84ms/step - loss: 0.4209 - accuracy: 0.8475 - val_loss: 0.3702 - val_accuracy: 0.8828\n",
      "Epoch 4/5\n",
      "1500/1500 [==============================] - 133s 89ms/step - loss: 0.3865 - accuracy: 0.8589 - val_loss: 0.2093 - val_accuracy: 0.8898\n",
      "Epoch 5/5\n",
      "1500/1500 [==============================] - 135s 90ms/step - loss: 0.3617 - accuracy: 0.8685 - val_loss: 0.3549 - val_accuracy: 0.8935\n"
     ]
    },
    {
     "data": {
      "text/plain": [
       "<keras.callbacks.callbacks.History at 0x20fe73ce358>"
      ]
     },
     "execution_count": 16,
     "metadata": {},
     "output_type": "execute_result"
    }
   ],
   "source": [
    "model.fit_generator(generator = trainDataGen, epochs = num_epochs, verbose = 1, \n",
    "                   validation_data = valDataGen, validation_freq = 1, shuffle = True)"
   ]
  },
  {
   "cell_type": "markdown",
   "metadata": {},
   "source": [
    "# Model Predictions\n",
    "\n",
    "Let us test how well our model performed on the never before seen test data"
   ]
  },
  {
   "cell_type": "code",
   "execution_count": 17,
   "metadata": {},
   "outputs": [],
   "source": [
    "predictions = model.predict(X_ts)"
   ]
  },
  {
   "cell_type": "code",
   "execution_count": 18,
   "metadata": {},
   "outputs": [],
   "source": [
    "y_pred_classes = np.argmax(predictions, axis = 1)"
   ]
  },
  {
   "cell_type": "code",
   "execution_count": 20,
   "metadata": {
    "scrolled": true
   },
   "outputs": [
    {
     "name": "stdout",
     "output_type": "stream",
     "text": [
      "[[836   3   6  44  13   5  75   0  18   0]\n",
      " [  0 978   0  16   4   0   0   0   2   0]\n",
      " [ 10   3 596  11 279   1  86   0  14   0]\n",
      " [ 11  16   2 888  55   0  20   0   7   1]\n",
      " [  1   1   9  19 952   0  15   0   3   0]\n",
      " [  0   0   0   0   0 974   0  13   0  13]\n",
      " [154   2  48  37 222   1 507   0  29   0]\n",
      " [  0   0   0   0   0  38   0 878   0  84]\n",
      " [  0   2   0   5   3   3   1   3 982   1]\n",
      " [  0   0   0   0   0   7   0  16   1 976]]\n"
     ]
    }
   ],
   "source": [
    "cm = confusion_matrix(y_test, y_pred_classes)\n",
    "print(cm)"
   ]
  },
  {
   "cell_type": "code",
   "execution_count": 23,
   "metadata": {},
   "outputs": [
    {
     "data": {
      "image/png": "[encoded data removed]",
      "text/plain": [
       "<Figure size 576x576 with 2 Axes>"
      ]
     },
     "metadata": {
      "needs_background": "light"
     },
     "output_type": "display_data"
    }
   ],
   "source": [
    "labels = label_mapping.values()\n",
    "rcParams['figure.figsize'] = 8,8\n",
    "data = pd.DataFrame(np.round(cm/ np.sum(cm), 3), index = labels, columns = labels)\n",
    "sns.heatmap(data, annot = True)\n",
    "plt.xticks(rotation = 90), plt.yticks(rotation = 0)\n",
    "plt.show()"
   ]
  },
  {
   "cell_type": "markdown",
   "metadata": {},
   "source": [
    "# Conclusion\n",
    "\n",
    "We observe that since the **within class variance** is less and as the **across class variance** is more for this dataset, even a simple CNN with modest number of Convolution and Subsampling layers performs well.\n",
    "\n",
    "Interestingly we can observe from the confusion matrix that the algorithm gets ambiguous for telling a shirt apart from a coat or a t-shirt. This happens because they are similar figures or their across class variance is low.\n",
    "\n",
    "The accuracy of this model can be further increased by using Data Augmentation (Image Augmentation) thereby training the data on more and more samples. Increasing the number of epochs will also help in that improving in that direction. \n",
    "\n",
    "In this notebook we understood:\n",
    "- Building a NN Model in keras using Functional API.\n",
    "- Using flow method of ImageDataGenerator class to fit the model in batches of required size.\n",
    "- Visualize the output using a Confusion Matrix and interpret the result in terms of class variances."
   ]
  }
 ],
 "metadata": {
  "kernelspec": {
   "display_name": "Python 3",
   "language": "python",
   "name": "python3"
  },
  "language_info": {
   "codemirror_mode": {
    "name": "ipython",
    "version": 3
   },
   "file_extension": ".py",
   "mimetype": "text/x-python",
   "name": "python",
   "nbconvert_exporter": "python",
   "pygments_lexer": "ipython3",
   "version": "3.6.8"
  },
  "latex_envs": {
   "LaTeX_envs_menu_present": true,
   "autoclose": false,
   "autocomplete": true,
   "bibliofile": "biblio.bib",
   "cite_by": "apalike",
   "current_citInitial": 1,
   "eqLabelWithNumbers": true,
   "eqNumInitial": 1,
   "hotkeys": {
    "equation": "Ctrl-E",
    "itemize": "Ctrl-I"
   },
   "labels_anchors": false,
   "latex_user_defs": false,
   "report_style_numbering": false,
   "user_envs_cfg": false
  },
  "toc": {
   "base_numbering": 1,
   "nav_menu": {},
   "number_sections": true,
   "sideBar": true,
   "skip_h1_title": false,
   "title_cell": "Table of Contents",
   "title_sidebar": "Contents",
   "toc_cell": false,
   "toc_position": {},
   "toc_section_display": true,
   "toc_window_display": false
  }
 },
 "nbformat": 4,
 "nbformat_minor": 2
}
